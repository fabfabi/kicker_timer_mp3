{
 "cells": [
  {
   "cell_type": "code",
   "execution_count": 2,
   "metadata": {},
   "outputs": [],
   "source": [
    "from pydub.generators import Sine\n",
    "from pydub import AudioSegment\n",
    "\n",
    "from pydub.playback import play"
   ]
  },
  {
   "cell_type": "code",
   "execution_count": 3,
   "metadata": {},
   "outputs": [],
   "source": [
    "def create_empty():\n",
    "    return AudioSegment.silent(duration=0)\n",
    "\n",
    "def create_beep(duration, frequency = 400, fade_in = 50, fade_out = 100, gain = -3):\n",
    "\n",
    "    if duration < fade_in + fade_out:\n",
    "        raise Exception(\"Duration too short\")\n",
    "    \n",
    "    gen = Sine(frequency)\n",
    "    sine = gen.to_audio_segment(duration=duration) #.apply_gain(gain)\n",
    "\n",
    "    sine = sine.fade_in(fade_in).fade_out(fade_out)\n",
    "\n",
    "    return sine"
   ]
  },
  {
   "cell_type": "code",
   "execution_count": 4,
   "metadata": {},
   "outputs": [],
   "source": [
    "\n",
    "def create_silence(duration):\n",
    "    return AudioSegment.silent(duration=duration)\n"
   ]
  },
  {
   "cell_type": "code",
   "execution_count": 5,
   "metadata": {},
   "outputs": [],
   "source": [
    "def create_setup_beep(short_beep_duration, long_beep_duration, pause,\n",
    "                 frequency = 400, short_beeps = 3,\n",
    "                 s_fade_in = 25, s_fade_out = 50 , s_gain = -3,\n",
    "                 l_fade_in = 50, l_fade_out = 100, l_gain = -1):\n",
    "    short_beep = create_beep(short_beep_duration, fade_in=s_fade_in, fade_out=s_fade_out, gain=s_gain)\n",
    "    short_beep += create_silence(pause)\n",
    "\n",
    "    result = short_beep * short_beeps\n",
    "\n",
    "    result += create_beep(long_beep_duration, fade_in=l_fade_in, fade_out=l_fade_out, gain=l_gain)\n",
    "\n",
    "    return result"
   ]
  },
  {
   "cell_type": "code",
   "execution_count": 6,
   "metadata": {},
   "outputs": [],
   "source": [
    "def create_double_beep(beep_duration, pause, frequency = 400, fade_in = 50, fade_out = 100, gain = -3):\n",
    "    beep = create_beep(beep_duration, frequency = frequency, fade_in = fade_in, fade_out = fade_out, gain = gain)\n",
    "    return beep + create_silence(pause) + beep"
   ]
  },
  {
   "cell_type": "code",
   "execution_count": 7,
   "metadata": {},
   "outputs": [],
   "source": [
    "def create_timer(wait_time, setup_time = 8000):\n",
    "    signal = create_double_beep(100, 25, fade_in=25, fade_out=50, frequency = 600)\n",
    "    setup_beep = create_setup_beep(100, 800, 1000, frequency = 600, s_gain = -10, l_gain = 0)\n",
    "\n",
    "    if len(setup_beep) > setup_time:\n",
    "        raise Exception(\"ERROR: setup_time is shorter than the setup-beep.\")\n",
    "\n",
    "    setup_pause = create_silence(setup_time - len(setup_beep))\n",
    "    wait_pause = create_silence(wait_time)\n",
    "\n",
    "    result = setup_pause\n",
    "    result += setup_beep\n",
    "    result += wait_pause\n",
    "    result += signal\n",
    "    return result"
   ]
  },
  {
   "cell_type": "code",
   "execution_count": 8,
   "metadata": {},
   "outputs": [],
   "source": [
    "\n",
    "def create_and_export(fname, wait_time, setup_time = 8000):\n",
    "    sound = create_timer(wait_time=wait_time, setup_time=setup_time)\n",
    "    sound.export(fname, format=\"mp3\")\n",
    "    print(fname+ \" exported\")\n"
   ]
  },
  {
   "cell_type": "code",
   "execution_count": 9,
   "metadata": {},
   "outputs": [
    {
     "name": "stdout",
     "output_type": "stream",
     "text": [
      "kicker_timer_8sec_500.mp3 exported\n",
      "kicker_timer_8sec_1200.mp3 exported\n",
      "kicker_timer_8sec_1800.mp3 exported\n",
      "kicker_timer_8sec_2500.mp3 exported\n",
      "kicker_timer_8sec_3000.mp3 exported\n",
      "kicker_timer_8sec_4200.mp3 exported\n",
      "kicker_timer_8sec_5100.mp3 exported\n",
      "kicker_timer_8sec_5900.mp3 exported\n",
      "kicker_timer_8sec_6200.mp3 exported\n",
      "kicker_timer_8sec_7000.mp3 exported\n",
      "kicker_timer_8sec_8000.mp3 exported\n",
      "kicker_timer_8sec_8200.mp3 exported\n",
      "kicker_timer_8sec_9000.mp3 exported\n",
      "kicker_timer_8sec_10000.mp3 exported\n",
      "kicker_timer_8sec_11000.mp3 exported\n",
      "kicker_timer_8sec_12000.mp3 exported\n",
      "kicker_timer_8sec_13000.mp3 exported\n"
     ]
    }
   ],
   "source": [
    "wait_times = [500, 1200, 1800, 2500, 3000, 4200, 5100, 5900, 6200, 7000, 8000, 8200, 9000, 10000, 11000, 12000, 13000]\n",
    "\n",
    "for time in wait_times:\n",
    "    fname=\"kicker_timer_8sec_\"+str(time)+\".mp3\"\n",
    "\n",
    "    create_and_export(fname, time)"
   ]
  },
  {
   "cell_type": "code",
   "execution_count": null,
   "metadata": {},
   "outputs": [],
   "source": []
  }
 ],
 "metadata": {
  "kernelspec": {
   "display_name": "Python 3",
   "language": "python",
   "name": "python3"
  },
  "language_info": {
   "codemirror_mode": {
    "name": "ipython",
    "version": 3
   },
   "file_extension": ".py",
   "mimetype": "text/x-python",
   "name": "python",
   "nbconvert_exporter": "python",
   "pygments_lexer": "ipython3",
   "version": "3.7.7"
  },
  "orig_nbformat": 4
 },
 "nbformat": 4,
 "nbformat_minor": 2
}
